{
 "cells": [
  {
   "cell_type": "code",
   "execution_count": null,
   "metadata": {},
   "outputs": [],
   "source": [
    "import numpy as np\n",
    "import sympy as sp\n",
    "import math as mt\n",
    "from sympy import Matrix, MatrixSymbol, Transpose, transpose, Function\n",
    "from sympy import *\n",
    "from sympy.physics.quantum.dagger import Dagger\n",
    "from sympy.utilities.lambdify import lambdify, implemented_function\n",
    "import matplotlib.pyplot as plt\n",
    "import scipy\n",
    "from tqdm import tqdm\n",
    "\n",
    "#Las masas en eV#\n",
    "m_u = 2.16e+006\n",
    "m_c = 1.27e+009\n",
    "m_t = 172.69e+009\n",
    "\n",
    "m_d = 4.67e+006\n",
    "m_s = 93.4e+006\n",
    "m_b = 4.18e+009\n",
    "\n",
    "m_e = 0.510998995000e+006\n",
    "m_mu = 105.6583755e+006\n",
    "m_tau = 1776.86e+006\n",
    "\n",
    "#Las deltas de masas cuadradas en eV^2#\n",
    "Del21 = 7.53e-5\n",
    "dDel21= 0.18e-5\n",
    "Del32 = 2.437e-3\n",
    "dDel32= 0.033e-3\n",
    "\n",
    "V_ckm = Matrix([[0.97401, 0.22650, 0.00361],\n",
    "         [0.22636, 0.97320, 0.04053],\n",
    "         [0.00854, 0.03978, 0.999172]])\n",
    "\n",
    "V_ckm.conjugate().transpose()"
   ]
  },
  {
   "cell_type": "markdown",
   "metadata": {},
   "source": [
    "Aqui se define la expresión que se va a manipular:"
   ]
  },
  {
   "cell_type": "markdown",
   "metadata": {},
   "source": [
    "$$M_D = \\Omega \\biggr[ X_1 \\begin{pmatrix}\n",
    "m_{u} & 0 & 0 \\\\\n",
    "0 & m_{c} & 0 \\\\\n",
    "0 & 0 & m_{t} \n",
    "\\end{pmatrix}+ X_2 \n",
    "V^\\dagger_{ckm}\n",
    "\\begin{pmatrix}\n",
    "m_{d} & 0 & 0 \\\\\n",
    "0 & m_{s} & 0 \\\\\n",
    "0 & 0 &  m_{b}\n",
    "\\end{pmatrix} V_{ckm} + X_3 \\begin{pmatrix}\n",
    "m_{e} & 0 & 0 \\\\\n",
    "0 & m_{\\mu} & 0 \\\\\n",
    "0 & 0 & m_{\\tau} \n",
    "\\end{pmatrix}\\biggr]$$"
   ]
  },
  {
   "cell_type": "code",
   "execution_count": null,
   "metadata": {},
   "outputs": [],
   "source": [
    "M_u= Matrix([[m_u, 0, 0],\n",
    "      [0, m_c, 0],\n",
    "      [0, 0, m_t]])\n",
    "\n",
    "M_d= Matrix([[m_d, 0, 0],\n",
    "      [0, m_s, 0],\n",
    "      [0, 0, m_b]])\n",
    "\n",
    "M_e= Matrix([[m_e, 0, 0],\n",
    "      [0, m_mu, 0],\n",
    "      [0, 0, m_tau]])\n",
    "\n",
    "M_tex = V_ckm.conjugate().transpose() * M_d * V_ckm"
   ]
  },
  {
   "cell_type": "markdown",
   "metadata": {},
   "source": [
    "Suponiendo que $\\Omega=\\frac{1}{1\\times 10^{11}}$"
   ]
  },
  {
   "cell_type": "code",
   "execution_count": null,
   "metadata": {},
   "outputs": [],
   "source": [
    "Omega = 1e-11\n",
    "\n",
    "X1 = Symbol('X1', real=True)\n",
    "X2 = Symbol('X2', real=True)\n",
    "X3 = Symbol('X3', real=True)\n",
    "\n",
    "M_D = Omega*(X1*M_u+ X2*M_tex + X3*M_e)\n",
    "M_D"
   ]
  },
  {
   "cell_type": "code",
   "execution_count": null,
   "metadata": {},
   "outputs": [],
   "source": [
    "M_D - M_D.conjugate().transpose()\n",
    "# Como nota: Por alguna razón, al trasponer la matriz python identifica números reales que son exactamente iguales \n",
    "# como si fueran distintos por una pequeña cantidad (vease el siguiente bloque de codigo).\n",
    "# Sin embargo hice de nuevo este proceso en mathematica y la matriz efectivamente es hermítica. \n",
    "# Lo unico a destacar esque por esta inconsistencia no puedo calcular en python los eigenvalores sin antes definir\n",
    "# primero los valores numericos de X1 X2 X3. Habiendo hecho eso compare con los resultados en mathematica y se obtiene\n",
    "# exactamente lo mismo. "
   ]
  },
  {
   "cell_type": "code",
   "execution_count": null,
   "metadata": {},
   "outputs": [],
   "source": [
    "# Aqui solo estoy acotando los valores de las masas usando los rangos obtenidos en el codigo **CodigoMajorana2**.\n",
    "# Agregué la orden de exportar los datos a un txt pero la tengo desmarcada.\n",
    "\n",
    "with open(\"ConstantesR2.txt\", 'a+') as f:\n",
    "  for k in tqdm(range(1,100001)):\n",
    "    for j in range(1,100001):\n",
    "      for i in range(1,100001):\n",
    "        eigenvalues = M_D.evalf(subs={X1:i*0.001,X2:j*0.001,X3:k*0.001}).eigenvals()\n",
    "        eig1 = list(eigenvalues.keys())[0]\n",
    "        eig2 = list(eigenvalues.keys())[1]\n",
    "        eig3 = list(eigenvalues.keys())[2]\n",
    "        if (5.046635452455577e-02 >= eig3 >= 4.977274472473412e-02):\n",
    "          if (8.895652699074483e-03 >= eig2 >= 8.460663274548044e-03):\n",
    "            if (4.302232524093508e-05 >= eig1 >= 4.091857219083728e-05):\n",
    "              #print(f'{i}, {j}, {k}, {eig1}, {eig2}, {eig3}', end='\\n', sep=',', file=f)\n",
    "                print(i, j, k)\n",
    "\n",
    "gc.collect()"
   ]
  },
  {
   "cell_type": "code",
   "execution_count": null,
   "metadata": {},
   "outputs": [],
   "source": [
    "# Aqui solo estoy acotando los valores de las masas usando los rangos obtenidos en el codigo **CodigoMajorana1**.\n",
    "# Agregué la orden de exportar los datos a un txt pero la tengo desmarcada.\n",
    "\n",
    "with open(\"ConstantesR1.txt\", 'a+') as f:\n",
    "  for k in tqdm(range(1,100001)):\n",
    "    for j in range(1,100001):\n",
    "      for i in range(1,100001):\n",
    "        eigenvalues = M_D.evalf(subs={X1:i*0.001,X2:j*0.001,X3:k*0.001}).eigenvals()\n",
    "        eig1 = list(eigenvalues.keys())[0]\n",
    "        eig2 = list(eigenvalues.keys())[1]\n",
    "        eig3 = list(eigenvalues.keys())[2]\n",
    "        if (5.159603975906963e-02 >= eig3 >= 5.086723809935128e-02):\n",
    "          if (1.4329021181241065e-02 >= eig2 >= 1.3570731726450031e-02):\n",
    "            if (1.1275837967439889e-02 >= eig1 >= 1.0560628605286653e-02):\n",
    "              #print(f'{i}, {j}, {k}, {eig1}, {eig2}, {eig3}', end='\\n', sep=',', file=f)\n",
    "                print(i, j, k)\n",
    "\n",
    "gc.collect()"
   ]
  },
  {
   "cell_type": "code",
   "execution_count": null,
   "metadata": {},
   "outputs": [],
   "source": []
  }
 ],
 "metadata": {
  "kernelspec": {
   "display_name": "Python 3 (ipykernel)",
   "language": "python",
   "name": "python3"
  },
  "language_info": {
   "codemirror_mode": {
    "name": "ipython",
    "version": 3
   },
   "file_extension": ".py",
   "mimetype": "text/x-python",
   "name": "python",
   "nbconvert_exporter": "python",
   "pygments_lexer": "ipython3",
   "version": "3.12.2"
  }
 },
 "nbformat": 4,
 "nbformat_minor": 4
}
