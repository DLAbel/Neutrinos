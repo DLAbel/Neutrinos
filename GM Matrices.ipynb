{
 "cells": [
  {
   "cell_type": "markdown",
   "id": "44adbbf9",
   "metadata": {},
   "source": [
    "Neutrino Mass Matrices"
   ]
  },
  {
   "cell_type": "code",
   "execution_count": 207,
   "id": "442bd5e1",
   "metadata": {},
   "outputs": [],
   "source": [
    "\n",
    "import numpy as np\n",
    "import sympy as sy\n",
    "import math\n",
    "from numpy.random import default_rng\n",
    "import matplotlib.pyplot as plt"
   ]
  },
  {
   "cell_type": "markdown",
   "id": "c1c6bf65",
   "metadata": {},
   "source": [
    "Definimos las matrices de Gell-Mann"
   ]
  },
  {
   "cell_type": "code",
   "execution_count": 18,
   "id": "5a974bcc",
   "metadata": {},
   "outputs": [],
   "source": [
    "l0 = (np.sqrt(2/3))*np.array([[1,0,0],[0,1,0],[0,0,1]])\n",
    "l1 = np.array([[0,1,0],[1,0,0],[0,0,0]])\n",
    "l2 = np.array([[0,-1j,0],[1j,0,0],[0,0,0]])\n",
    "l3 = np.array([[1,0,0],[0,-1,0],[0,0,0]])\n",
    "l4 = np.array([[0,0,1],[0,0,0],[1,0,0]])\n",
    "l5 = np.array([[0,0,-1j],[0,0,0],[1j,0,0]])\n",
    "l6 = np.array([[0,0,0],[0,0,1],[0,1,0]])\n",
    "l7 = np.array([[0,0,0],[0,0,-1j],[0,1j,0]])\n",
    "l8 = (1/math.sqrt(3))*np.array([[1,0,0],[0,1,0],[0,0,-2]])\n",
    "\n",
    "lam = np.array([l0,l1,l2,l3,l4,l5,l6,l7,l8])\n",
    "# print('l1=', l1, 'l2=', l2, 'l3=', l3 , 'l4=',l4 ,'l5=',l5 , 'l6=', l6, 'l7=',l7 , 'l8',l8)"
   ]
  },
  {
   "cell_type": "markdown",
   "id": "2af50224",
   "metadata": {},
   "source": [
    "Definimos un producto punto entre matrices"
   ]
  },
  {
   "cell_type": "code",
   "execution_count": 21,
   "id": "bd50990f",
   "metadata": {},
   "outputs": [],
   "source": [
    "I=np.ones((3,3))\n",
    "Ra=default_rng(42).random((3,3))\n",
    "\n",
    "#R=np.dot(Ra,lam[n])\n",
    "\n",
    "def matrixdot(A,B):\n",
    "    return np.trace(A@B)/2\n",
    "\n",
    "def matrixcoeff(A):\n",
    "    cr =np.zeros(shape=(9), dtype = 'complex_')\n",
    "    for n in range(0,9):\n",
    "        cr[n] = matrixdot(A,lam[n])\n",
    "    return cr"
   ]
  },
  {
   "cell_type": "code",
   "execution_count": 22,
   "id": "641d0fbb",
   "metadata": {
    "scrolled": false
   },
   "outputs": [
    {
     "data": {
      "text/plain": [
       "(1.0000000000000002+0j)"
      ]
     },
     "execution_count": 22,
     "metadata": {},
     "output_type": "execute_result"
    }
   ],
   "source": [
    "\n",
    "matrixdot(lam[8],lam[8])"
   ]
  },
  {
   "cell_type": "code",
   "execution_count": 23,
   "id": "1a702391",
   "metadata": {},
   "outputs": [
    {
     "data": {
      "text/plain": [
       "array([0.+0.j, 0.+0.j, 0.+0.j, 0.+0.j, 0.+0.j, 0.+0.j, 0.+0.j, 0.+0.j,\n",
       "       1.+0.j])"
      ]
     },
     "execution_count": 23,
     "metadata": {},
     "output_type": "execute_result"
    }
   ],
   "source": [
    "# (matrixdot(lam[0], Ra)) \n",
    "(matrixcoeff(lam[8]))\n"
   ]
  },
  {
   "cell_type": "code",
   "execution_count": 24,
   "id": "ff393b98",
   "metadata": {},
   "outputs": [
    {
     "data": {
      "text/plain": [
       "array([[0.77395605+0.j, 0.43887844+0.j, 0.85859792+0.j],\n",
       "       [0.69736803+0.j, 0.09417735+0.j, 0.97562235+0.j],\n",
       "       [0.7611397 +0.j, 0.78606431+0.j, 0.12811363+0.j]])"
      ]
     },
     "execution_count": 24,
     "metadata": {},
     "output_type": "execute_result"
    }
   ],
   "source": [
    "\n",
    "np.einsum('i,ijk',matrixcoeff(Ra),lam)\n"
   ]
  },
  {
   "cell_type": "code",
   "execution_count": 25,
   "id": "35deb96f",
   "metadata": {},
   "outputs": [
    {
     "data": {
      "text/plain": [
       "array([[ 0.00000000e+00+0.j,  0.00000000e+00+0.j,  0.00000000e+00+0.j],\n",
       "       [ 0.00000000e+00+0.j, -2.77555756e-17+0.j,  0.00000000e+00+0.j],\n",
       "       [ 0.00000000e+00+0.j,  0.00000000e+00+0.j,  1.11022302e-16+0.j]])"
      ]
     },
     "execution_count": 25,
     "metadata": {},
     "output_type": "execute_result"
    }
   ],
   "source": [
    "Ra - np.einsum('i,ijk',matrixcoeff(Ra),lam)"
   ]
  },
  {
   "cell_type": "code",
   "execution_count": 26,
   "id": "efac27ea",
   "metadata": {},
   "outputs": [
    {
     "data": {
      "text/plain": [
       "(1.0000000000000002+0j)"
      ]
     },
     "execution_count": 26,
     "metadata": {},
     "output_type": "execute_result"
    }
   ],
   "source": [
    "\n",
    "matrixdot(lam[8],lam[8])\n",
    "   "
   ]
  },
  {
   "cell_type": "code",
   "execution_count": 27,
   "id": "aa3f4cdf",
   "metadata": {},
   "outputs": [
    {
     "data": {
      "text/plain": [
       "array([0.+0.j, 0.+0.j, 0.+0.j, 0.+0.j, 0.+0.j, 0.+0.j, 0.+0.j, 0.+0.j,\n",
       "       1.+0.j])"
      ]
     },
     "execution_count": 27,
     "metadata": {},
     "output_type": "execute_result"
    }
   ],
   "source": [
    "matrixcoeff(lam[8])"
   ]
  },
  {
   "cell_type": "code",
   "execution_count": 28,
   "id": "dd7d34a8",
   "metadata": {},
   "outputs": [
    {
     "data": {
      "text/plain": [
       "(1.0000000000000002+0j)"
      ]
     },
     "execution_count": 28,
     "metadata": {},
     "output_type": "execute_result"
    }
   ],
   "source": [
    "\n",
    "matrixdot(lam[8],lam[8])"
   ]
  },
  {
   "cell_type": "markdown",
   "id": "ba13df99",
   "metadata": {},
   "source": [
    "Definimos las matrices diagonales para las masas de los quarks; up, down y ()"
   ]
  },
  {
   "cell_type": "code",
   "execution_count": 224,
   "id": "74a582b5",
   "metadata": {},
   "outputs": [
    {
     "name": "stdout",
     "output_type": "stream",
     "text": [
      "[[1.25079622e-05 0.00000000e+00 0.00000000e+00]\n",
      " [0.00000000e+00 7.35421854e-03 0.00000000e+00]\n",
      " [0.00000000e+00 0.00000000e+00 1.00000000e+00]]\n",
      "[[0.00111722 0.         0.        ]\n",
      " [0.         0.0222488  0.        ]\n",
      " [0.         0.         1.        ]]\n",
      "[[2.87580338e-04 0.00000000e+00 0.00000000e+00]\n",
      " [0.00000000e+00 5.94634918e-02 0.00000000e+00]\n",
      " [0.00000000e+00 0.00000000e+00 1.00000000e+00]]\n"
     ]
    }
   ],
   "source": [
    "m_u=2.16e+6\n",
    "m_c=1.27e+9\n",
    "m_t=172.69e+9\n",
    "m_b=4.18e+9\n",
    "m_d=4.67e+6\n",
    "m_s=93e+6\n",
    "m_e=0.51099e+6\n",
    "m_mu=105.6583e+6\n",
    "m_tau=1776.86e+6\n",
    "\n",
    "Mu= (1/m_t)*np.diagflat([m_u,m_c,m_t], 0)\n",
    "print(Mu)\n",
    "Md= (1/m_b)*np.diagflat([m_d,m_s,m_b],0)\n",
    "print(Md)\n",
    "Ml= (1/m_tau)*np.diagflat([m_e,m_mu,m_tau],0)\n",
    "print(Ml)"
   ]
  },
  {
   "cell_type": "code",
   "execution_count": 225,
   "id": "94b9a193",
   "metadata": {},
   "outputs": [
    {
     "data": {
      "text/plain": [
       "array([ 0.41125574+0.j,  0.        +0.j,  0.        +0.j, -0.00367086+0.j,\n",
       "        0.        +0.j,  0.        +0.j,  0.        +0.j,  0.        +0.j,\n",
       "       -0.57522368+0.j])"
      ]
     },
     "execution_count": 225,
     "metadata": {},
     "output_type": "execute_result"
    }
   ],
   "source": [
    "matrixcoeff(Mu)"
   ]
  },
  {
   "cell_type": "code",
   "execution_count": 226,
   "id": "cfc27e24",
   "metadata": {},
   "outputs": [
    {
     "data": {
      "text/plain": [
       "array([ 0.41778743+0.j,  0.        +0.j,  0.        +0.j, -0.01056579+0.j,\n",
       "        0.        +0.j,  0.        +0.j,  0.        +0.j,  0.        +0.j,\n",
       "       -0.57060508+0.j])"
      ]
     },
     "execution_count": 226,
     "metadata": {},
     "output_type": "execute_result"
    }
   ],
   "source": [
    "matrixcoeff(Md)"
   ]
  },
  {
   "cell_type": "code",
   "execution_count": 227,
   "id": "068137a3",
   "metadata": {},
   "outputs": [
    {
     "data": {
      "text/plain": [
       "array([ 0.43264156+0.j,  0.        +0.j,  0.        +0.j, -0.02958796+0.j,\n",
       "        0.        +0.j,  0.        +0.j,  0.        +0.j,  0.        +0.j,\n",
       "       -0.56010162+0.j])"
      ]
     },
     "execution_count": 227,
     "metadata": {},
     "output_type": "execute_result"
    }
   ],
   "source": [
    "matrixcoeff(Ml)"
   ]
  },
  {
   "cell_type": "markdown",
   "id": "28418ea7",
   "metadata": {},
   "source": [
    "Calculamos $C_0$ para $M_u$"
   ]
  },
  {
   "cell_type": "code",
   "execution_count": 243,
   "id": "fdf07ca5",
   "metadata": {},
   "outputs": [
    {
     "name": "stdout",
     "output_type": "stream",
     "text": [
      "0.41125574396549314\n"
     ]
    }
   ],
   "source": [
    "C01=matrixdot(l0, Mu)\n",
    "print(C01)"
   ]
  },
  {
   "cell_type": "code",
   "execution_count": 244,
   "id": "1d25b99b",
   "metadata": {},
   "outputs": [
    {
     "name": "stdout",
     "output_type": "stream",
     "text": [
      "0.41778743173888827\n"
     ]
    }
   ],
   "source": [
    "C02=matrixdot(l0, Md)\n",
    "print(C02)"
   ]
  },
  {
   "cell_type": "code",
   "execution_count": 245,
   "id": "e4f7c162",
   "metadata": {},
   "outputs": [
    {
     "name": "stdout",
     "output_type": "stream",
     "text": [
      "0.4326415635085948\n"
     ]
    }
   ],
   "source": [
    "C03=matrixdot(l0, Ml)\n",
    "print(C03)"
   ]
  },
  {
   "cell_type": "markdown",
   "id": "d0b375d9",
   "metadata": {},
   "source": [
    "Calculamos la derivada de $C_0$ respecto a las masas en $M_u, M_d y M_l$."
   ]
  },
  {
   "cell_type": "markdown",
   "id": "91e87774",
   "metadata": {},
   "source": [
    "Para +$\\Delta$"
   ]
  },
  {
   "cell_type": "code",
   "execution_count": 232,
   "id": "4dc8f99f",
   "metadata": {},
   "outputs": [
    {
     "name": "stdout",
     "output_type": "stream",
     "text": [
      "0.00010158844981379264\n"
     ]
    }
   ],
   "source": [
    "C0Mu= 1/m_t\n",
    "C0Mc= 1/m_t\n",
    "C0Mt= -(m_u+m_c)/m_t**2\n",
    "dm_u=0.49e+6\n",
    "dm_c=0.02e+9\n",
    "dm_t=0.4e+9\n",
    "\n",
    "DC01= C0Mu*dm_u + C0Mc*dm_c + C0Mt*dm_t\n",
    "print(DC01)"
   ]
  },
  {
   "cell_type": "code",
   "execution_count": 233,
   "id": "bc6cc166",
   "metadata": {},
   "outputs": [
    {
     "name": "stdout",
     "output_type": "stream",
     "text": [
      "0.002578712712621048\n"
     ]
    }
   ],
   "source": [
    "C0Md=1/m_b\n",
    "C0Ms=1/m_b\n",
    "C0Mb=-(m_d+m_s)/m_b**2\n",
    "dm_d=0.48e+6\n",
    "dm_b=0.03e+9\n",
    "dm_s=11e+6\n",
    "DC02= C0Md*dm_d + C0Ms*dm_s + C0Mb*dm_b\n",
    "print(DC02)"
   ]
  },
  {
   "cell_type": "code",
   "execution_count": 234,
   "id": "497291d5",
   "metadata": {},
   "outputs": [
    {
     "name": "stdout",
     "output_type": "stream",
     "text": [
      "1.2717363365271594e-09\n"
     ]
    }
   ],
   "source": [
    "C0Me=1/m_tau\n",
    "C0Mmu=1/m_tau\n",
    "C0Mtau=-(m_e+m_mu)/m_tau**2\n",
    "dm_e=0.0000000031e+6\n",
    "dm_mu=0.0000024e+6\n",
    "dm_tau=0.0000024e+6\n",
    "DC03= C0Me*dm_e + C0Mmu*dm_mu + C0Mtau*dm_tau\n",
    "print(DC03)"
   ]
  },
  {
   "cell_type": "markdown",
   "id": "bf75ecd4",
   "metadata": {},
   "source": [
    "Ahora construimos la gráfica de errores para cada matriz."
   ]
  },
  {
   "cell_type": "code",
   "execution_count": 248,
   "id": "1cf556a5",
   "metadata": {},
   "outputs": [
    {
     "data": {
      "image/png": "[encoded data removed]",
      "text/plain": [
       "<Figure size 720x504 with 1 Axes>"
      ]
     },
     "metadata": {
      "needs_background": "light"
     },
     "output_type": "display_data"
    }
   ],
   "source": [
    "data1 = np.random.normal(C01, DC01, 200)\n",
    "data2 = np.random.normal(C02, DC02, 200)\n",
    "data3 = np.random.normal(C03, DC03, 200)\n",
    "data= [data1,data2,data3]\n",
    "ax = fig.add_subplot(111)\n",
    "fig = plt.figure(figsize =(10, 7))\n",
    "\n",
    "plt.boxplot(data, labels=['u', 'd', 'l'])\n",
    "plt.title(\"titulo\")\n",
    "plt.show()"
   ]
  },
  {
   "cell_type": "markdown",
   "id": "290c2cef",
   "metadata": {},
   "source": [
    "encontrar el centro y probar con los errores simetricos, buscar como hacerlo con los asimétricos."
   ]
  },
  {
   "cell_type": "code",
   "execution_count": null,
   "id": "d27b0e82",
   "metadata": {},
   "outputs": [],
   "source": []
  }
 ],
 "metadata": {
  "kernelspec": {
   "display_name": "Python 3 (ipykernel)",
   "language": "python",
   "name": "python3"
  },
  "language_info": {
   "codemirror_mode": {
    "name": "ipython",
    "version": 3
   },
   "file_extension": ".py",
   "mimetype": "text/x-python",
   "name": "python",
   "nbconvert_exporter": "python",
   "pygments_lexer": "ipython3",
   "version": "3.10.4"
  }
 },
 "nbformat": 4,
 "nbformat_minor": 5
}
