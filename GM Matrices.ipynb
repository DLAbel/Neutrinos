{
 "cells": [
  {
   "cell_type": "markdown",
   "id": "44adbbf9",
   "metadata": {},
   "source": [
    "Neutrino Mass Matrices"
   ]
  },
  {
   "cell_type": "code",
   "execution_count": 207,
   "id": "442bd5e1",
   "metadata": {},
   "outputs": [],
   "source": [
    "\n",
    "import numpy as np\n",
    "import sympy as sy\n",
    "import math\n",
    "from numpy.random import default_rng\n",
    "import matplotlib.pyplot as plt"
   ]
  },
  {
   "cell_type": "markdown",
   "id": "c1c6bf65",
   "metadata": {},
   "source": [
    "Definimos las matrices de Gell-Mann"
   ]
  },
  {
   "cell_type": "code",
   "execution_count": 18,
   "id": "5a974bcc",
   "metadata": {},
   "outputs": [],
   "source": [
    "l0 = (np.sqrt(2/3))*np.array([[1,0,0],[0,1,0],[0,0,1]])\n",
    "l1 = np.array([[0,1,0],[1,0,0],[0,0,0]])\n",
    "l2 = np.array([[0,-1j,0],[1j,0,0],[0,0,0]])\n",
    "l3 = np.array([[1,0,0],[0,-1,0],[0,0,0]])\n",
    "l4 = np.array([[0,0,1],[0,0,0],[1,0,0]])\n",
    "l5 = np.array([[0,0,-1j],[0,0,0],[1j,0,0]])\n",
    "l6 = np.array([[0,0,0],[0,0,1],[0,1,0]])\n",
    "l7 = np.array([[0,0,0],[0,0,-1j],[0,1j,0]])\n",
    "l8 = (1/math.sqrt(3))*np.array([[1,0,0],[0,1,0],[0,0,-2]])\n",
    "\n",
    "lam = np.array([l0,l1,l2,l3,l4,l5,l6,l7,l8])\n",
    "# print('l1=', l1, 'l2=', l2, 'l3=', l3 , 'l4=',l4 ,'l5=',l5 , 'l6=', l6, 'l7=',l7 , 'l8',l8)"
   ]
  },
  {
   "cell_type": "markdown",
   "id": "2af50224",
   "metadata": {},
   "source": [
    "Definimos un producto punto entre matrices"
   ]
  },
  {
   "cell_type": "code",
   "execution_count": 21,
   "id": "bd50990f",
   "metadata": {},
   "outputs": [],
   "source": [
    "I=np.ones((3,3))\n",
    "Ra=default_rng(42).random((3,3))\n",
    "\n",
    "#R=np.dot(Ra,lam[n])\n",
    "\n",
    "def matrixdot(A,B):\n",
    "    return np.trace(A@B)/2\n",
    "\n",
    "def matrixcoeff(A):\n",
    "    cr =np.zeros(shape=(9), dtype = 'complex_')\n",
    "    for n in range(0,9):\n",
    "        cr[n] = matrixdot(A,lam[n])\n",
    "    return cr"
   ]
  },
  {
   "cell_type": "code",
   "execution_count": 22,
   "id": "641d0fbb",
   "metadata": {
    "scrolled": false
   },
   "outputs": [
    {
     "data": {
      "text/plain": [
       "(1.0000000000000002+0j)"
      ]
     },
     "execution_count": 22,
     "metadata": {},
     "output_type": "execute_result"
    }
   ],
   "source": [
    "\n",
    "matrixdot(lam[8],lam[8])"
   ]
  },
  {
   "cell_type": "code",
   "execution_count": 23,
   "id": "1a702391",
   "metadata": {},
   "outputs": [
    {
     "data": {
      "text/plain": [
       "array([0.+0.j, 0.+0.j, 0.+0.j, 0.+0.j, 0.+0.j, 0.+0.j, 0.+0.j, 0.+0.j,\n",
       "       1.+0.j])"
      ]
     },
     "execution_count": 23,
     "metadata": {},
     "output_type": "execute_result"
    }
   ],
   "source": [
    "# (matrixdot(lam[0], Ra)) \n",
    "(matrixcoeff(lam[8]))\n"
   ]
  },
  {
   "cell_type": "code",
   "execution_count": 24,
   "id": "ff393b98",
   "metadata": {},
   "outputs": [
    {
     "data": {
      "text/plain": [
       "array([[0.77395605+0.j, 0.43887844+0.j, 0.85859792+0.j],\n",
       "       [0.69736803+0.j, 0.09417735+0.j, 0.97562235+0.j],\n",
       "       [0.7611397 +0.j, 0.78606431+0.j, 0.12811363+0.j]])"
      ]
     },
     "execution_count": 24,
     "metadata": {},
     "output_type": "execute_result"
    }
   ],
   "source": [
    "\n",
    "np.einsum('i,ijk',matrixcoeff(Ra),lam)\n"
   ]
  },
  {
   "cell_type": "code",
   "execution_count": 25,
   "id": "35deb96f",
   "metadata": {},
   "outputs": [
    {
     "data": {
      "text/plain": [
       "array([[ 0.00000000e+00+0.j,  0.00000000e+00+0.j,  0.00000000e+00+0.j],\n",
       "       [ 0.00000000e+00+0.j, -2.77555756e-17+0.j,  0.00000000e+00+0.j],\n",
       "       [ 0.00000000e+00+0.j,  0.00000000e+00+0.j,  1.11022302e-16+0.j]])"
      ]
     },
     "execution_count": 25,
     "metadata": {},
     "output_type": "execute_result"
    }
   ],
   "source": [
    "Ra - np.einsum('i,ijk',matrixcoeff(Ra),lam)"
   ]
  },
  {
   "cell_type": "code",
   "execution_count": 26,
   "id": "efac27ea",
   "metadata": {},
   "outputs": [
    {
     "data": {
      "text/plain": [
       "(1.0000000000000002+0j)"
      ]
     },
     "execution_count": 26,
     "metadata": {},
     "output_type": "execute_result"
    }
   ],
   "source": [
    "\n",
    "matrixdot(lam[8],lam[8])\n",
    "   "
   ]
  },
  {
   "cell_type": "code",
   "execution_count": 27,
   "id": "aa3f4cdf",
   "metadata": {},
   "outputs": [
    {
     "data": {
      "text/plain": [
       "array([0.+0.j, 0.+0.j, 0.+0.j, 0.+0.j, 0.+0.j, 0.+0.j, 0.+0.j, 0.+0.j,\n",
       "       1.+0.j])"
      ]
     },
     "execution_count": 27,
     "metadata": {},
     "output_type": "execute_result"
    }
   ],
   "source": [
    "matrixcoeff(lam[8])"
   ]
  },
  {
   "cell_type": "code",
   "execution_count": 28,
   "id": "dd7d34a8",
   "metadata": {},
   "outputs": [
    {
     "data": {
      "text/plain": [
       "(1.0000000000000002+0j)"
      ]
     },
     "execution_count": 28,
     "metadata": {},
     "output_type": "execute_result"
    }
   ],
   "source": [
    "\n",
    "matrixdot(lam[8],lam[8])"
   ]
  },
  {
   "cell_type": "markdown",
   "id": "0e4f7411",
   "metadata": {},
   "source": [
    "Definimos las matrices diagonales para las masas de los quarks; up, down y ()"
   ]
  },
  {
   "cell_type": "code",
   "execution_count": 70,
   "id": "9efaaa0c",
   "metadata": {},
   "outputs": [
    {
     "name": "stdout",
     "output_type": "stream",
     "text": [
      "[[1.25079622e-05 0.00000000e+00 0.00000000e+00]\n",
      " [0.00000000e+00 7.35421854e-03 0.00000000e+00]\n",
      " [0.00000000e+00 0.00000000e+00 1.00000000e+00]]\n",
      "[[0.00111722 0.         0.        ]\n",
      " [0.         0.0222488  0.        ]\n",
      " [0.         0.         1.        ]]\n",
      "[[2.87580338e-04 0.00000000e+00 0.00000000e+00]\n",
      " [0.00000000e+00 5.94634918e-02 0.00000000e+00]\n",
      " [0.00000000e+00 0.00000000e+00 1.00000000e+00]]\n"
     ]
    }
   ],
   "source": [
    "m_u=2.16e+6\n",
    "m_c=1.27e+9\n",
    "m_t=172.69e+9\n",
    "m_b=4.18e+9\n",
    "m_d=4.67e+6\n",
    "m_s=93e+6\n",
    "m_e=0.51099e+6\n",
    "m_mu=105.6583e+6\n",
    "m_tau=1776.86e+6\n",
    "\n",
    "Mu= (1/m_t)*np.diagflat([m_u,m_c,m_t], 0)\n",
    "print(Mu)\n",
    "Md= (1/m_b)*np.diagflat([m_d,m_s,m_b],0)\n",
    "print(Md)\n",
    "Ml= (1/m_tau)*np.diagflat([m_e,m_mu,m_tau],0)\n",
    "print(Ml)"
   ]
  },
  {
   "cell_type": "code",
   "execution_count": 73,
   "id": "bec3022b",
   "metadata": {},
   "outputs": [
    {
     "data": {
      "text/plain": [
       "array([ 0.43264156+0.j,  0.        +0.j,  0.        +0.j, -0.02958796+0.j,\n",
       "        0.        +0.j,  0.        +0.j,  0.        +0.j,  0.        +0.j,\n",
       "       -0.56010162+0.j])"
      ]
     },
     "execution_count": 73,
     "metadata": {},
     "output_type": "execute_result"
    }
   ],
   "source": [
    "matrixcoeff(Mu)"
   ]
  },
  {
   "cell_type": "code",
   "execution_count": 74,
   "id": "f333fd6d",
   "metadata": {},
   "outputs": [
    {
     "data": {
      "text/plain": [
       "array([ 0.41778743+0.j,  0.        +0.j,  0.        +0.j, -0.01056579+0.j,\n",
       "        0.        +0.j,  0.        +0.j,  0.        +0.j,  0.        +0.j,\n",
       "       -0.57060508+0.j])"
      ]
     },
     "execution_count": 74,
     "metadata": {},
     "output_type": "execute_result"
    }
   ],
   "source": [
    "matrixcoeff(Md)"
   ]
  },
  {
   "cell_type": "code",
   "execution_count": 75,
   "id": "7b192c83",
   "metadata": {},
   "outputs": [
    {
     "data": {
      "text/plain": [
       "array([ 0.43264156+0.j,  0.        +0.j,  0.        +0.j, -0.02958796+0.j,\n",
       "        0.        +0.j,  0.        +0.j,  0.        +0.j,  0.        +0.j,\n",
       "       -0.56010162+0.j])"
      ]
     },
     "execution_count": 75,
     "metadata": {},
     "output_type": "execute_result"
    }
   ],
   "source": [
    "matrixcoeff(Ml)"
   ]
  },
  {
   "cell_type": "markdown",
   "id": "348a7986",
   "metadata": {},
   "source": [
    "Calculamos $C_0$ para $M_u$"
   ]
  },
  {
   "cell_type": "code",
   "execution_count": 113,
   "id": "2390820d",
   "metadata": {},
   "outputs": [
    {
     "data": {
      "text/plain": [
       "0.41125574396549314"
      ]
     },
     "execution_count": 113,
     "metadata": {},
     "output_type": "execute_result"
    }
   ],
   "source": [
    "matrixdot(l0, Mu)"
   ]
  },
  {
   "cell_type": "code",
   "execution_count": 112,
   "id": "d87baab6",
   "metadata": {},
   "outputs": [
    {
     "data": {
      "text/plain": [
       "0.41778743173888827"
      ]
     },
     "execution_count": 112,
     "metadata": {},
     "output_type": "execute_result"
    }
   ],
   "source": [
    "matrixdot(l0, Md)"
   ]
  },
  {
   "cell_type": "code",
   "execution_count": 111,
   "id": "e03d3ad0",
   "metadata": {},
   "outputs": [
    {
     "data": {
      "text/plain": [
       "0.4326415635085948"
      ]
     },
     "execution_count": 111,
     "metadata": {},
     "output_type": "execute_result"
    }
   ],
   "source": [
    "matrixdot(l0, Ml)"
   ]
  },
  {
   "cell_type": "markdown",
   "id": "f34e00e6",
   "metadata": {},
   "source": [
    "Calculamos la derivada de $C_0$ respecto a las masas en $M_u, M_d y M_l$."
   ]
  },
  {
   "cell_type": "markdown",
   "id": "883e4293",
   "metadata": {},
   "source": [
    "Para +$\\Delta$"
   ]
  },
  {
   "cell_type": "code",
   "execution_count": 189,
   "id": "c97fbfd4",
   "metadata": {},
   "outputs": [
    {
     "name": "stdout",
     "output_type": "stream",
     "text": [
      "0.00010158844981379264\n"
     ]
    }
   ],
   "source": [
    "C0Mu= 1/m_t\n",
    "C0Mc= 1/m_t\n",
    "C0Mt= -(m_u+m_c)/m_t**2\n",
    "dm_u=0.49e+6\n",
    "dm_c=0.02e+9\n",
    "dm_t=0.4e+9\n",
    "\n",
    "DC01= C0Mu*dm_u + C0Mc*dm_c + C0Mt*dm_t\n",
    "print(DC01)"
   ]
  },
  {
   "cell_type": "code",
   "execution_count": 84,
   "id": "e2d96500",
   "metadata": {},
   "outputs": [
    {
     "name": "stdout",
     "output_type": "stream",
     "text": [
      "0.002578712712621048\n"
     ]
    }
   ],
   "source": [
    "C0Md=1/m_b\n",
    "C0Ms=1/m_b\n",
    "C0Mb=-(m_d+m_s)/m_b**2\n",
    "dm_d=0.48e+6\n",
    "dm_b=0.03e+9\n",
    "dm_s=11e+6\n",
    "DC02= C0Md*dm_d + C0Ms*dm_s + C0Mb*dm_b\n",
    "print(DC02)"
   ]
  },
  {
   "cell_type": "code",
   "execution_count": 202,
   "id": "a1be6648",
   "metadata": {},
   "outputs": [
    {
     "name": "stdout",
     "output_type": "stream",
     "text": [
      "1.2717363365271594e-09\n"
     ]
    }
   ],
   "source": [
    "C0Me=1/m_tau\n",
    "C0Mmu=1/m_tau\n",
    "C0Mtau=-(m_e+m_mu)/m_tau**2\n",
    "dm_e=0.0000000031e+6\n",
    "dm_mu=0.0000024e+6\n",
    "dm_tau=0.0000024e+6\n",
    "DC03= C0Me*dm_e + C0Mmu*dm_mu + C0Mtau*dm_tau\n",
    "print(DC03)"
   ]
  },
  {
   "cell_type": "markdown",
   "id": "5469b7e3",
   "metadata": {},
   "source": [
    "Para -$\\Delta$"
   ]
  },
  {
   "cell_type": "code",
   "execution_count": 190,
   "id": "9474e1cf",
   "metadata": {},
   "outputs": [
    {
     "name": "stdout",
     "output_type": "stream",
     "text": [
      "-0.00010025658346368551\n"
     ]
    }
   ],
   "source": [
    "dm_um=-0.26e+6\n",
    "dm_cm=-0.02e+9\n",
    "dm_tm=-0.4e+9\n",
    "\n",
    "DC01m= C0Mu*dm_um + C0Mc*dm_cm + C0Mt*dm_tm\n",
    "print(DC01m)"
   ]
  },
  {
   "cell_type": "code",
   "execution_count": 191,
   "id": "3bad1785",
   "metadata": {},
   "outputs": [
    {
     "name": "stdout",
     "output_type": "stream",
     "text": [
      "-0.0011250429248414644\n"
     ]
    }
   ],
   "source": [
    "dm_dm=-0.17e+6\n",
    "dm_bm=-0.02e+9\n",
    "dm_sm=-5e+6\n",
    "DC02m= C0Md*dm_dm + C0Ms*dm_sm + C0Mb*dm_bm\n",
    "print(DC02m)"
   ]
  },
  {
   "cell_type": "code",
   "execution_count": 201,
   "id": "c045907e",
   "metadata": {},
   "outputs": [
    {
     "name": "stdout",
     "output_type": "stream",
     "text": [
      "-1.2717363365271594e-09\n"
     ]
    }
   ],
   "source": [
    "dm_em=-0.0000000031e+6\n",
    "dm_mum=-0.0000024e+6\n",
    "dm_taum=-0.0000024e+6\n",
    "DC03m= C0Me*dm_em + C0Mmu*dm_mum + C0Mtau*dm_taum\n",
    "print(DC03m)"
   ]
  },
  {
   "cell_type": "markdown",
   "id": "ac6d5bfe",
   "metadata": {},
   "source": [
    "Ahora construimos la gráfica de errores para cada matriz."
   ]
  },
  {
   "cell_type": "code",
   "execution_count": 206,
   "id": "db6cb2d2",
   "metadata": {},
   "outputs": [
    {
     "data": {
      "image/png": "[encoded data removed]",
      "text/plain": [
       "<Figure size 720x504 with 1 Axes>"
      ]
     },
     "metadata": {
      "needs_background": "light"
     },
     "output_type": "display_data"
    }
   ],
   "source": [
    "data1 = (-0.00010158844981379264,0.00010158844981379264)\n",
    "data2 = (-0.0011250429248414644,0.002578712712621048)\n",
    "data3 = (-1.2717363365271594e-09,1.2717363365271594e-09)\n",
    "data= [data1,data2,data3]\n",
    "ax = fig.add_subplot(111)\n",
    "fig = plt.figure(figsize =(10, 7))\n",
    "\n",
    "plt.boxplot(data, labels=['u', 'd', 'l'])\n",
    "plt.title(\"titulo\")\n",
    "plt.show()"
   ]
  },
  {
   "cell_type": "code",
   "execution_count": null,
   "id": "aaebe51f",
   "metadata": {},
   "outputs": [],
   "source": []
  }
 ],
 "metadata": {
  "kernelspec": {
   "display_name": "Python 3 (ipykernel)",
   "language": "python",
   "name": "python3"
  },
  "language_info": {
   "codemirror_mode": {
    "name": "ipython",
    "version": 3
   },
   "file_extension": ".py",
   "mimetype": "text/x-python",
   "name": "python",
   "nbconvert_exporter": "python",
   "pygments_lexer": "ipython3",
   "version": "3.10.4"
  }
 },
 "nbformat": 4,
 "nbformat_minor": 5
}
