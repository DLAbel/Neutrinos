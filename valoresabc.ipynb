{
 "cells": [
  {
   "cell_type": "code",
   "execution_count": 1,
   "metadata": {},
   "outputs": [
    {
     "data": {
      "text/latex": [
       "$\\displaystyle \\left[\\begin{matrix}0.97401 & 0.22636 & 0.00854\\\\0.2265 & 0.9732 & 0.03978\\\\0.00361 & 0.04053 & 0.999172\\end{matrix}\\right]$"
      ],
      "text/plain": [
       "Matrix([\n",
       "[0.97401, 0.22636,  0.00854],\n",
       "[ 0.2265,  0.9732,  0.03978],\n",
       "[0.00361, 0.04053, 0.999172]])"
      ]
     },
     "execution_count": 1,
     "metadata": {},
     "output_type": "execute_result"
    }
   ],
   "source": [
    "import numpy as np\n",
    "import sympy as sp\n",
    "import math as mt\n",
    "from sympy import Matrix, MatrixSymbol, Transpose, transpose, Function\n",
    "from sympy import *\n",
    "from sympy.physics.quantum.dagger import Dagger\n",
    "from sympy.utilities.lambdify import lambdify, implemented_function\n",
    "import matplotlib.pyplot as plt\n",
    "import scipy\n",
    "from tqdm import tqdm\n",
    "\n",
    "\n",
    "#def symm(M):\n",
    " #   for i, j in zip(M, M.transpose()):\n",
    "  #      print(i==j)\n",
    "\n",
    "#Las masas en eV#\n",
    "m_u = 2.16e+006\n",
    "m_c = 1.27e+009\n",
    "m_t = 172.69e+009\n",
    "\n",
    "m_d = 4.67e+006\n",
    "m_s = 93.4e+006\n",
    "m_b = 4.18e+009\n",
    "\n",
    "m_e = 0.510998995000e+006\n",
    "m_mu = 105.6583755e+006\n",
    "m_tau = 1776.86e+006\n",
    "\n",
    "#Las deltas de masas cuadradas en eV^2#\n",
    "Del21 = 7.53e-5\n",
    "dDel21= 0.18e-5\n",
    "Del32 = 2.437e-3\n",
    "dDel32= 0.033e-3\n",
    "\n",
    "V_ckm = Matrix([[0.97401, 0.22650, 0.00361],\n",
    "         [0.22636, 0.97320, 0.04053],\n",
    "         [0.00854, 0.03978, 0.999172]])\n",
    "\n",
    "V_ckm.conjugate().transpose()"
   ]
  },
  {
   "cell_type": "markdown",
   "metadata": {},
   "source": [
    "Aqui se define la expresión que se va a manipular:"
   ]
  },
  {
   "cell_type": "markdown",
   "metadata": {},
   "source": [
    "$$M_D = \\Omega \\biggr[ X_1 \\begin{pmatrix}\n",
    "m_{u} & 0 & 0 \\\\\n",
    "0 & m_{c} & 0 \\\\\n",
    "0 & 0 & m_{t} \n",
    "\\end{pmatrix}+ X_2 \n",
    "V^\\dagger_{ckm}\n",
    "\\begin{pmatrix}\n",
    "m_{d} & 0 & 0 \\\\\n",
    "0 & m_{s} & 0 \\\\\n",
    "0 & 0 &  m_{b}\n",
    "\\end{pmatrix} V_{ckm} + X_3 \\begin{pmatrix}\n",
    "m_{e} & 0 & 0 \\\\\n",
    "0 & m_{\\mu} & 0 \\\\\n",
    "0 & 0 & m_{\\tau} \n",
    "\\end{pmatrix}\\biggr]$$"
   ]
  },
  {
   "cell_type": "code",
   "execution_count": 2,
   "metadata": {},
   "outputs": [],
   "source": [
    "M_u= Matrix([[m_u, 0, 0],\n",
    "      [0, m_c, 0],\n",
    "      [0, 0, m_t]])\n",
    "\n",
    "M_d= Matrix([[m_d, 0, 0],\n",
    "      [0, m_s, 0],\n",
    "      [0, 0, m_b]])\n",
    "\n",
    "M_e= Matrix([[m_e, 0, 0],\n",
    "      [0, m_mu, 0],\n",
    "      [0, 0, m_tau]])\n",
    "\n",
    "M_tex = V_ckm.conjugate().transpose() * M_d * V_ckm"
   ]
  },
  {
   "cell_type": "markdown",
   "metadata": {},
   "source": [
    "Suponiendo que $\\Omega=\\frac{1}{1\\times 10^{11}}$"
   ]
  },
  {
   "cell_type": "code",
   "execution_count": 3,
   "metadata": {},
   "outputs": [
    {
     "data": {
      "text/latex": [
       "$\\displaystyle \\left[\\begin{matrix}2.16 \\cdot 10^{-5} X_{1} + 9.520970532707 \\cdot 10^{-5} X_{2} + 5.10998995 \\cdot 10^{-6} X_{3} & 0.0002302571632035 X_{2} & 0.00036540949493507 X_{2}\\\\0.0002302571632035 X_{2} & 0.0127 X_{1} + 0.000953150594355 X_{2} + 0.001056583755 X_{3} & 0.0016983058887075 X_{2}\\\\0.00036540949493507 X_{2} & 0.0016983058887075 X_{2} & 1.7269 X_{1} + 0.0417323427299709 X_{2} + 0.0177686 X_{3}\\end{matrix}\\right]$"
      ],
      "text/plain": [
       "Matrix([\n",
       "[2.16e-5*X1 + 9.520970532707e-5*X2 + 5.10998995e-6*X3,                                0.0002302571632035*X2,                           0.00036540949493507*X2],\n",
       "[                               0.0002302571632035*X2, 0.0127*X1 + 0.000953150594355*X2 + 0.001056583755*X3,                            0.0016983058887075*X2],\n",
       "[                              0.00036540949493507*X2,                                0.0016983058887075*X2, 1.7269*X1 + 0.0417323427299709*X2 + 0.0177686*X3]])"
      ]
     },
     "execution_count": 3,
     "metadata": {},
     "output_type": "execute_result"
    }
   ],
   "source": [
    "Omega = 1e-11\n",
    "\n",
    "X1 = Symbol('X1', real=True)\n",
    "X2 = Symbol('X2', real=True)\n",
    "X3 = Symbol('X3', real=True)\n",
    "\n",
    "M_D = Omega*(X1*M_u+ X2*M_tex + X3*M_e)\n",
    "M_D"
   ]
  },
  {
   "cell_type": "code",
   "execution_count": 4,
   "metadata": {},
   "outputs": [
    {
     "data": {
      "text/latex": [
       "$\\displaystyle \\left[\\begin{matrix}0 & 0 & 0\\\\0 & 0 & - 2.16840434497101 \\cdot 10^{-19} X_{2}\\\\0 & 2.16840434497101 \\cdot 10^{-19} X_{2} & 0\\end{matrix}\\right]$"
      ],
      "text/plain": [
       "Matrix([\n",
       "[0,                       0,                        0],\n",
       "[0,                       0, -2.16840434497101e-19*X2],\n",
       "[0, 2.16840434497101e-19*X2,                        0]])"
      ]
     },
     "execution_count": 4,
     "metadata": {},
     "output_type": "execute_result"
    }
   ],
   "source": [
    "M_D - M_D.conjugate().transpose()\n",
    "# Como nota: Por alguna razón, al trasponer la matriz python identifica números reales que son exactamente iguales \n",
    "# como si fueran distintos por una pequeña cantidad (vease el siguiente bloque de codigo).\n",
    "# Sin embargo hice de nuevo este proceso en mathematica y la matriz efectivamente es hermítica. \n",
    "# Lo unico a destacar esque por esta inconsistencia no puedo calcular en python los eigenvalores sin antes definir\n",
    "# primero los valores numericos de X1 X2 X3. Habiendo hecho eso compare con los resultados en mathematica y se obtiene\n",
    "# exactamente lo mismo. "
   ]
  },
  {
   "cell_type": "code",
   "execution_count": 5,
   "metadata": {},
   "outputs": [
    {
     "name": "stdout",
     "output_type": "stream",
     "text": [
      "-2.16840434497101e-19*X2\n",
      "2.16840434497101e-19*X2\n",
      "0.0016983058887075*X2\n",
      "0.0016983058887075*X2\n",
      "0.0016983058887075*X2\n",
      "0.0016983058887075*X2\n"
     ]
    }
   ],
   "source": [
    "print(M_D[5]-M_D.transpose().conjugate()[5])\n",
    "print(M_D[7]-M_D.transpose().conjugate()[7])\n",
    "print(M_D[5])\n",
    "print(M_D.transpose().conjugate()[5])\n",
    "print(M_D[7])\n",
    "print(M_D.transpose().conjugate()[7])"
   ]
  },
  {
   "cell_type": "code",
   "execution_count": 6,
   "metadata": {},
   "outputs": [],
   "source": [
    "# En este bloque de codigo lo que hice fue acotar los valores de los eigenvalores de la matriz M_D basado en\n",
    "# los valores númericos de lo que se hizo en la primera parte de la tesis de encontrar los rangos para m_3, m_2 y m_1\n",
    "# Los valores que coloque junto a los i,j,k en la evaluación fueron puestos a prueba y error para acotar mas los calculos\n",
    "# y que no fuera tan tardado el proceso. Añadi una barra de progreso para mi tranquilidad mental.\n",
    "\n",
    "#for k in tqdm(range(524,660)):\n",
    " # for j in range(1,101):\n",
    "  #  for i in range(73,96):\n",
    "   #   eigenvalues = M_D.evalf(subs={X1:i*0.00001,X2:j*0.00001,X3:k*0.0001}).eigenvals()\n",
    "    #  eig1 = list(eigenvalues.keys())[0]\n",
    "     # eig2 = list(eigenvalues.keys())[1]\n",
    "      #eig3 = list(eigenvalues.keys())[2]\n",
    "      #if 2.55e-3 > eig3 > 2.47e-3:\n",
    "       # if 7.9e-5 > eig2 > 6.8e-5: \n",
    "        #  if 3.9e-7 > eig1 > 3.2e-7:\n",
    "         #   print('encontrao','X1:',i,'X2:',j,'X3:',k, eig3, eig2,eig1)\n",
    "          #else:\n",
    "           # print('no encontrao')\n"
   ]
  },
  {
   "cell_type": "code",
   "execution_count": 8,
   "metadata": {},
   "outputs": [
    {
     "name": "stderr",
     "output_type": "stream",
     "text": [
      "100%|███████████████████████████████████| 14/14 [01:56<00:00,  8.30s/it]\n"
     ]
    }
   ],
   "source": [
    "# Aqui solo estoy acotando lo de arriba pero duplico la celda para modificar libremente. Agregue la orden de exportar los datos a un txt.\n",
    "with open(\"takis.txt\", 'a+') as f:\n",
    "  for k in tqdm(range(52,66)):\n",
    "    for j in range(1,101):\n",
    "      for i in range(73,96):\n",
    "        eigenvalues = M_D.evalf(subs={X1:i*0.00001,X2:j*0.00001,X3:k*0.001}).eigenvals()\n",
    "        eig1 = list(eigenvalues.keys())[0]\n",
    "        eig2 = list(eigenvalues.keys())[1]\n",
    "        eig3 = list(eigenvalues.keys())[2]\n",
    "        if (0.05156 > eig3 > 0.05083):\n",
    "          if (0.01417 > eig2 > 0.01346):\n",
    "            if (0.01115 > eig1 > 0.01043):\n",
    "              #print(f'{i}, {j}, {k}, {eig1}, {eig2}, {eig3}',end='\\n', sep=',', file=f)\n",
    "                print(i, j, k)"
   ]
  },
  {
   "cell_type": "code",
   "execution_count": null,
   "metadata": {},
   "outputs": [
    {
     "name": "stderr",
     "output_type": "stream",
     "text": [
      "  8%|██████▉                                                                               | 8/100 [05:01<57:50, 37.73s/it]"
     ]
    }
   ],
   "source": [
    "for k in tqdm(range(1,101)):\n",
    "    for j in range(1,101):\n",
    "        for i in range(1,101):\n",
    "            eigenvalues = M_D.evalf(subs={X1:i*0.00000000001,X2:j*0.00000000001,X3:k*0.000000000001}).eigenvals()\n",
    "            eig1 = list(eigenvalues.keys())[0]\n",
    "            eig2 = list(eigenvalues.keys())[1]\n",
    "            eig3 = list(eigenvalues.keys())[2]\n",
    "            if (Del32 + dDel32) >=(eig3**2-eig2**2)>= (Del32 - dDel32):\n",
    "                if (Del21 + dDel21)>= (eig2**2 - eig1**2) >= (Del21 - dDel21):\n",
    "                    print('encontrao','X1:',i,'X2:',j,'X3:',k, eig3, eig2,eig1)"
   ]
  },
  {
   "cell_type": "code",
   "execution_count": 313,
   "metadata": {},
   "outputs": [],
   "source": [
    "#import matplotlib.pyplot as plt\n",
    "#from mpl_toolkits.mplot3d import Axes3D\n",
    "#import numpy as np\n",
    "\n",
    "#DataAll1D = np.loadtxt(\"takis.txt\", delimiter=\",\")\n",
    "\n",
    "#X, Y = np.meshgrid(DataAll1D[:,0], DataAll1D[:,1])\n",
    "#Z = np.tile(DataAll1D[:,2], (len(DataAll1D[:,2]), 1))\n",
    "\n",
    "#fig = plt.figure()\n",
    "#ax = fig.add_subplot(111, projection='3d')\n",
    "#ax.scatter3D(X, Y, Z, c=Z, cmap='ocean')\n",
    "\n",
    "#plt.show()"
   ]
  },
  {
   "cell_type": "code",
   "execution_count": null,
   "metadata": {},
   "outputs": [],
   "source": [
    "# Este bloque de codigo era para aproximar los valores pero no le di muchas vueltas. tal vez luego.\n",
    "\n",
    "#guess1 = 0.00000\n",
    "#guess2 = 0.00000\n",
    "#increment = 0.000001\n",
    "#epsilon = 0.00001\n",
    "\n",
    "\n",
    "#while abs((list(eigenvalues.keys())[1])**2 - list(eigenvalues.keys())[0]**2 - dm_21) >= epsilon: \n",
    " #   guess1+=increment \n",
    "  #  guess2+=increment\n",
    "  \n",
    "#if abs((list(eigenvalues.keys())[1])**2 - list(eigenvalues.keys())[0]**2 - dm_21) >= epsilon: \n",
    " #   print(\"Failed on the cube root of\",dm_21) \n",
    "#else: \n",
    " #   print(guess1, guess2,\"is close to\",dm_21)  "
   ]
  }
 ],
 "metadata": {
  "kernelspec": {
   "display_name": "Python 3 (ipykernel)",
   "language": "python",
   "name": "python3"
  },
  "language_info": {
   "codemirror_mode": {
    "name": "ipython",
    "version": 3
   },
   "file_extension": ".py",
   "mimetype": "text/x-python",
   "name": "python",
   "nbconvert_exporter": "python",
   "pygments_lexer": "ipython3",
   "version": "3.12.2"
  }
 },
 "nbformat": 4,
 "nbformat_minor": 4
}
