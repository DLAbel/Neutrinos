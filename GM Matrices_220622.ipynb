{
 "cells": [
  {
   "cell_type": "markdown",
   "id": "44adbbf9",
   "metadata": {},
   "source": [
    "Neutrino Mass Matrices"
   ]
  },
  {
   "cell_type": "code",
   "execution_count": 183,
   "id": "442bd5e1",
   "metadata": {},
   "outputs": [],
   "source": [
    "import numpy as np\n",
    "import sympy as sy\n",
    "import math\n",
    "from numpy.random import default_rng\n",
    "import matplotlib.pyplot as plt"
   ]
  },
  {
   "cell_type": "markdown",
   "id": "c1c6bf65",
   "metadata": {},
   "source": [
    "Definimos las matrices de Gell-Mann"
   ]
  },
  {
   "cell_type": "code",
   "execution_count": 184,
   "id": "5a974bcc",
   "metadata": {},
   "outputs": [],
   "source": [
    "l0 = (np.sqrt(2/3))*np.array([[1,0,0],[0,1,0],[0,0,1]])\n",
    "l1 = np.array([[0,1,0],[1,0,0],[0,0,0]])\n",
    "l2 = np.array([[0,-1j,0],[1j,0,0],[0,0,0]])\n",
    "l3 = np.array([[1,0,0],[0,-1,0],[0,0,0]])\n",
    "l4 = np.array([[0,0,1],[0,0,0],[1,0,0]])\n",
    "l5 = np.array([[0,0,-1j],[0,0,0],[1j,0,0]])\n",
    "l6 = np.array([[0,0,0],[0,0,1],[0,1,0]])\n",
    "l7 = np.array([[0,0,0],[0,0,-1j],[0,1j,0]])\n",
    "l8 = (1/math.sqrt(3))*np.array([[1,0,0],[0,1,0],[0,0,-2]])\n",
    "\n",
    "lam = np.array([l0,l1,l2,l3,l4,l5,l6,l7,l8])\n",
    "# print('l1=', l1, 'l2=', l2, 'l3=', l3 , 'l4=',l4 ,'l5=',l5 , 'l6=', l6, 'l7=',l7 , 'l8',l8)"
   ]
  },
  {
   "cell_type": "markdown",
   "id": "2af50224",
   "metadata": {},
   "source": [
    "Definimos un producto punto entre matrices"
   ]
  },
  {
   "cell_type": "code",
   "execution_count": 185,
   "id": "bd50990f",
   "metadata": {},
   "outputs": [],
   "source": [
    "Ra=default_rng(42).random((3,3))\n",
    "\n",
    "def matrixdot(A,B):\n",
    "    return np.trace(A@B)/2\n",
    "\n",
    "def matrixcoeff(A):\n",
    "    cr =np.zeros(shape=(9), dtype = 'complex_')\n",
    "    for n in range(0,9):\n",
    "        cr[n] = matrixdot(A,lam[n])\n",
    "    return cr"
   ]
  },
  {
   "cell_type": "code",
   "execution_count": 186,
   "id": "e0389105",
   "metadata": {},
   "outputs": [
    {
     "data": {
      "text/plain": [
       "(1+0j)"
      ]
     },
     "execution_count": 186,
     "metadata": {},
     "output_type": "execute_result"
    }
   ],
   "source": [
    "(matrixdot(lam[4], lam[4])) "
   ]
  },
  {
   "cell_type": "code",
   "execution_count": 187,
   "id": "1a702391",
   "metadata": {},
   "outputs": [
    {
     "data": {
      "text/plain": [
       "array([0.+0.j, 0.+0.j, 0.+0.j, 0.+0.j, 0.+0.j, 0.+0.j, 0.+0.j, 0.+0.j,\n",
       "       1.+0.j])"
      ]
     },
     "execution_count": 187,
     "metadata": {},
     "output_type": "execute_result"
    }
   ],
   "source": [
    "(matrixcoeff(lam[8]))\n"
   ]
  },
  {
   "cell_type": "code",
   "execution_count": 188,
   "id": "ff393b98",
   "metadata": {},
   "outputs": [
    {
     "data": {
      "text/plain": [
       "array([[0.77395605+0.j, 0.43887844+0.j, 0.85859792+0.j],\n",
       "       [0.69736803+0.j, 0.09417735+0.j, 0.97562235+0.j],\n",
       "       [0.7611397 +0.j, 0.78606431+0.j, 0.12811363+0.j]])"
      ]
     },
     "execution_count": 188,
     "metadata": {},
     "output_type": "execute_result"
    }
   ],
   "source": [
    "\n",
    "np.einsum('i,ijk',matrixcoeff(Ra),lam)\n"
   ]
  },
  {
   "cell_type": "code",
   "execution_count": 189,
   "id": "35deb96f",
   "metadata": {},
   "outputs": [
    {
     "data": {
      "text/plain": [
       "array([[ 0.00000000e+00+0.j,  0.00000000e+00+0.j,  0.00000000e+00+0.j],\n",
       "       [ 0.00000000e+00+0.j, -2.77555756e-17+0.j,  0.00000000e+00+0.j],\n",
       "       [ 0.00000000e+00+0.j,  0.00000000e+00+0.j,  1.11022302e-16+0.j]])"
      ]
     },
     "execution_count": 189,
     "metadata": {},
     "output_type": "execute_result"
    }
   ],
   "source": [
    "Ra - np.einsum('i,ijk',matrixcoeff(Ra),lam)"
   ]
  },
  {
   "cell_type": "markdown",
   "id": "3a56cd0d",
   "metadata": {},
   "source": [
    "Definimos las matrices diagonales para las masas de los quarks; up, down y ()"
   ]
  },
  {
   "cell_type": "code",
   "execution_count": 190,
   "id": "dac77cd2",
   "metadata": {},
   "outputs": [
    {
     "name": "stdout",
     "output_type": "stream",
     "text": [
      "[[1.25079622e-05 0.00000000e+00 0.00000000e+00]\n",
      " [0.00000000e+00 7.35421854e-03 0.00000000e+00]\n",
      " [0.00000000e+00 0.00000000e+00 1.00000000e+00]]\n",
      "[[0.00111722 0.         0.        ]\n",
      " [0.         0.0222488  0.        ]\n",
      " [0.         0.         1.        ]]\n",
      "[[2.87580338e-04 0.00000000e+00 0.00000000e+00]\n",
      " [0.00000000e+00 5.94634918e-02 0.00000000e+00]\n",
      " [0.00000000e+00 0.00000000e+00 1.00000000e+00]]\n"
     ]
    }
   ],
   "source": [
    "m_u=2.16e+6\n",
    "m_c=1.27e+9\n",
    "m_t=172.69e+9\n",
    "m_b=4.18e+9\n",
    "m_d=4.67e+6\n",
    "m_s=93e+6\n",
    "m_e=0.51099e+6\n",
    "m_mu=105.6583e+6\n",
    "m_tau=1776.86e+6\n",
    "\n",
    "Mu= (1/m_t)*np.diagflat([m_u,m_c,m_t], 0)\n",
    "print(Mu)\n",
    "Md= (1/m_b)*np.diagflat([m_d,m_s,m_b],0)\n",
    "print(Md)\n",
    "Ml= (1/m_tau)*np.diagflat([m_e,m_mu,m_tau],0)\n",
    "print(Ml)"
   ]
  },
  {
   "cell_type": "code",
   "execution_count": 191,
   "id": "45942b0d",
   "metadata": {},
   "outputs": [
    {
     "data": {
      "text/plain": [
       "array([ 0.41125574+0.j,  0.        +0.j,  0.        +0.j, -0.00367086+0.j,\n",
       "        0.        +0.j,  0.        +0.j,  0.        +0.j,  0.        +0.j,\n",
       "       -0.57522368+0.j])"
      ]
     },
     "execution_count": 191,
     "metadata": {},
     "output_type": "execute_result"
    }
   ],
   "source": [
    "matrixcoeff(Mu)"
   ]
  },
  {
   "cell_type": "code",
   "execution_count": 192,
   "id": "43548495",
   "metadata": {},
   "outputs": [
    {
     "data": {
      "text/plain": [
       "array([ 0.41778743+0.j,  0.        +0.j,  0.        +0.j, -0.01056579+0.j,\n",
       "        0.        +0.j,  0.        +0.j,  0.        +0.j,  0.        +0.j,\n",
       "       -0.57060508+0.j])"
      ]
     },
     "execution_count": 192,
     "metadata": {},
     "output_type": "execute_result"
    }
   ],
   "source": [
    "matrixcoeff(Md)"
   ]
  },
  {
   "cell_type": "code",
   "execution_count": 193,
   "id": "2128a47e",
   "metadata": {},
   "outputs": [
    {
     "data": {
      "text/plain": [
       "array([ 0.43264156+0.j,  0.        +0.j,  0.        +0.j, -0.02958796+0.j,\n",
       "        0.        +0.j,  0.        +0.j,  0.        +0.j,  0.        +0.j,\n",
       "       -0.56010162+0.j])"
      ]
     },
     "execution_count": 193,
     "metadata": {},
     "output_type": "execute_result"
    }
   ],
   "source": [
    "matrixcoeff(Ml)"
   ]
  },
  {
   "cell_type": "markdown",
   "id": "ffa123f2",
   "metadata": {},
   "source": [
    "Calculamos $C_0$ para $M$"
   ]
  },
  {
   "cell_type": "code",
   "execution_count": 194,
   "id": "41c452b2",
   "metadata": {},
   "outputs": [
    {
     "name": "stdout",
     "output_type": "stream",
     "text": [
      "C_01= 0.5036833632520701\n"
     ]
    }
   ],
   "source": [
    "C01=np.sqrt(3/2)*matrixdot(l0, Mu)\n",
    "print('C_01=',C01)"
   ]
  },
  {
   "cell_type": "code",
   "execution_count": 195,
   "id": "18d476da",
   "metadata": {},
   "outputs": [
    {
     "name": "stdout",
     "output_type": "stream",
     "text": [
      "C_02= 0.5116830143540669\n"
     ]
    }
   ],
   "source": [
    "C02=np.sqrt(3/2)*matrixdot(l0, Md)\n",
    "print('C_02=',C02)"
   ]
  },
  {
   "cell_type": "code",
   "execution_count": 196,
   "id": "75e2028d",
   "metadata": {},
   "outputs": [
    {
     "name": "stdout",
     "output_type": "stream",
     "text": [
      "C_03= 0.5298755360579899\n"
     ]
    }
   ],
   "source": [
    "C03=np.sqrt(3/2)*matrixdot(l0, Ml)\n",
    "print('C_03=',C03)"
   ]
  },
  {
   "cell_type": "markdown",
   "id": "03227ace",
   "metadata": {},
   "source": [
    "Calculamos la derivada de $C_0$ respecto a las masas en $M_u, M_d y M_l$."
   ]
  },
  {
   "cell_type": "markdown",
   "id": "0d33ffb7",
   "metadata": {},
   "source": [
    "Para +$\\Delta$"
   ]
  },
  {
   "cell_type": "code",
   "execution_count": 197,
   "id": "3cd1f29b",
   "metadata": {},
   "outputs": [
    {
     "name": "stdout",
     "output_type": "stream",
     "text": [
      "0.00010158844981379264\n"
     ]
    }
   ],
   "source": [
    "C0Mu= 1/m_t\n",
    "C0Mc= 1/m_t\n",
    "C0Mt= -(m_u+m_c)/m_t**2\n",
    "dm_u=0.49e+6\n",
    "dm_c=0.02e+9\n",
    "dm_t=0.4e+9\n",
    "\n",
    "DC01= C0Mu*dm_u + C0Mc*dm_c + C0Mt*dm_t\n",
    "print(DC01)"
   ]
  },
  {
   "cell_type": "code",
   "execution_count": 198,
   "id": "91ec46cb",
   "metadata": {},
   "outputs": [
    {
     "name": "stdout",
     "output_type": "stream",
     "text": [
      "0.002578712712621048\n"
     ]
    }
   ],
   "source": [
    "C0Md=1/m_b\n",
    "C0Ms=1/m_b\n",
    "C0Mb=-(m_d+m_s)/m_b**2\n",
    "dm_d=0.48e+6\n",
    "dm_b=0.03e+9\n",
    "dm_s=11e+6\n",
    "DC02= C0Md*dm_d + C0Ms*dm_s + C0Mb*dm_b\n",
    "print(DC02)"
   ]
  },
  {
   "cell_type": "code",
   "execution_count": 199,
   "id": "cd5b756b",
   "metadata": {},
   "outputs": [
    {
     "name": "stdout",
     "output_type": "stream",
     "text": [
      "4.036633023376959e-06\n"
     ]
    }
   ],
   "source": [
    "C0Me=1/m_tau\n",
    "C0Mmu=1/m_tau\n",
    "C0Mtau=(m_e+m_mu)/m_tau**2\n",
    "dm_e=0.0000000031e+6\n",
    "dm_mu=0.0000024e+6\n",
    "dm_tau=0.12e+6\n",
    "DC03= C0Me*dm_e + C0Mmu*dm_mu + C0Mtau*dm_tau\n",
    "print(DC03)"
   ]
  },
  {
   "cell_type": "markdown",
   "id": "22aab8ab",
   "metadata": {},
   "source": [
    "$\\Delta C_{0u}= 0.00010158844981379264$"
   ]
  },
  {
   "cell_type": "markdown",
   "id": "f71cd52f",
   "metadata": {},
   "source": [
    "$\\Delta C_{0d}= 0.002578712712621048$"
   ]
  },
  {
   "cell_type": "markdown",
   "id": "4a15b825",
   "metadata": {},
   "source": [
    "$\\Delta C_{0l}=4.036633023376959e-06$"
   ]
  },
  {
   "cell_type": "markdown",
   "id": "e233389f",
   "metadata": {},
   "source": [
    "Ahora construimos la gráfica de errores para cada matriz."
   ]
  },
  {
   "cell_type": "code",
   "execution_count": 200,
   "id": "d866fcdd",
   "metadata": {},
   "outputs": [
    {
     "data": {
      "image/png": "[encoded data removed]",
      "text/plain": [
       "<Figure size 720x504 with 1 Axes>"
      ]
     },
     "metadata": {
      "needs_background": "light"
     },
     "output_type": "display_data"
    }
   ],
   "source": [
    "data1 = np.random.normal(C01, DC01, 10000)\n",
    "data2 = np.random.normal(C02, DC02, 10000)\n",
    "data3 = np.random.normal(C03, DC03, 10000)\n",
    "data= [data1,data2,data3]\n",
    "fig = plt.figure(figsize =(10, 7))\n",
    "ax = fig.add_subplot(111)\n",
    "\n",
    "\n",
    "plt.boxplot(data, labels=['u', 'd', 'l'], vert=0)\n",
    "plt.title(\"titulo\")\n",
    "plt.show()"
   ]
  },
  {
   "cell_type": "markdown",
   "id": "8c14859c",
   "metadata": {},
   "source": [
    "Prueba para asimetricos(Fallida)"
   ]
  },
  {
   "cell_type": "code",
   "execution_count": 211,
   "id": "97e081a9",
   "metadata": {},
   "outputs": [
    {
     "name": "stdout",
     "output_type": "stream",
     "text": [
      "[[ 0.50368336  0.51168301  0.52987554]\n",
      " [ 1.00010159  1.00257871  1.00000404]\n",
      " [-0.99989841 -0.99742129 -0.99999596]]\n"
     ]
    },
    {
     "data": {
      "image/png": "[encoded data removed]",
      "text/plain": [
       "<Figure size 432x288 with 1 Axes>"
      ]
     },
     "metadata": {
      "needs_background": "light"
     },
     "output_type": "display_data"
    }
   ],
   "source": [
    "data1 = np.array([[C01, C02, C03],\n",
    "                  [DC01+1, DC02+1, DC03+1],\n",
    "                  [DC01-1, DC02-1, DC03-1]])\n",
    "\n",
    "fig1, ax1 = plt.subplots()\n",
    "ax1.set_title('Basic Plot')\n",
    "ax1.boxplot(data1, vert=0)\n",
    "print(data1)"
   ]
  },
  {
   "cell_type": "code",
   "execution_count": 202,
   "id": "f503f111",
   "metadata": {},
   "outputs": [
    {
     "data": {
      "text/plain": [
       "(1.05975107211598, 0.5298755360579899, 1.0597510721159797)"
      ]
     },
     "execution_count": 202,
     "metadata": {},
     "output_type": "execute_result"
    }
   ],
   "source": [
    "((m_e+m_mu)/m_tau+1), C03 , 2*C03"
   ]
  },
  {
   "cell_type": "code",
   "execution_count": 222,
   "id": "c38a05de",
   "metadata": {},
   "outputs": [
    {
     "name": "stdout",
     "output_type": "stream",
     "text": [
      "C_03= 0.5298755360579899\n",
      "C_33= -0.029587955719640267\n",
      "C_83 -0.560101620404361\n",
      "m_1= 1.4379016917476228e-05\n",
      "m_2= 0.002973174588881508\n",
      "0.0029731745888815055\n",
      "m_3= 0.05\n"
     ]
    }
   ],
   "source": [
    "C03=(np.sqrt(3/2))*matrixdot(l0, Ml)\n",
    "print('C_03=',C03)\n",
    "\n",
    "C33=matrixdot(l3, Ml)\n",
    "print('C_33=', C33)\n",
    "\n",
    "C83=matrixdot(l8, Ml)\n",
    "print('C_83',C83)\n",
    "\n",
    "m3=0.05\n",
    "m1=m3*C33+m3*np.sqrt(3)*C83+m3\n",
    "print('m_1=',m1)\n",
    "\n",
    "m10=(m3/2)*(2*(C33+C03)-1)\n",
    "\n",
    "m2=m3*np.sqrt(3)*C83-m3*C33+m3\n",
    "print('m_2=',m2)\n",
    "\n",
    "m20=m3*C03-m3/2-m3*C33\n",
    "print('m_3=',m3)"
   ]
  },
  {
   "cell_type": "markdown",
   "id": "37e3d432",
   "metadata": {},
   "source": [
    "$\\Delta C_{3l}=-0.029587955719640267\n",
    "\\\\ \n",
    "\\Delta C_{8l}=-0.560101620404361$"
   ]
  },
  {
   "cell_type": "markdown",
   "id": "521d4ef8",
   "metadata": {},
   "source": [
    "$m_1=\\frac{m_3}{2}\\times(\\sqrt(3)*2*C_{83}+2*C_{03}+2)$"
   ]
  },
  {
   "cell_type": "markdown",
   "id": "7af6aaf0",
   "metadata": {},
   "source": [
    "$m_2=m_3\\sqrt(3)C_{83}-m_3C_{33}+m_3$\n"
   ]
  },
  {
   "cell_type": "code",
   "execution_count": 204,
   "id": "263ff880",
   "metadata": {},
   "outputs": [
    {
     "data": {
      "text/plain": [
       "(-0.059175911439280526, -0.029587955719640267, -0.05917591143928053)"
      ]
     },
     "execution_count": 204,
     "metadata": {},
     "output_type": "execute_result"
    }
   ],
   "source": [
    "(m_e-m_mu)/m_tau , C33 ,2*C33"
   ]
  },
  {
   "cell_type": "code",
   "execution_count": 205,
   "id": "97562dea",
   "metadata": {},
   "outputs": [
    {
     "data": {
      "text/plain": [
       "(-1.120203240808722, -0.560101620404361, -1.120203240808722)"
      ]
     },
     "execution_count": 205,
     "metadata": {},
     "output_type": "execute_result"
    }
   ],
   "source": [
    "1/np.sqrt(3)*((m_e+m_mu)/m_tau -2),C83, 2*C83"
   ]
  },
  {
   "cell_type": "code",
   "execution_count": 206,
   "id": "7d71434a",
   "metadata": {},
   "outputs": [],
   "source": [
    "\n",
    "D2m_21=m2**2-m1**2\n",
    "#print(D2m_21)\n",
    "D2m_32=m3**2-m2**2\n",
    "#print(D2m_32)"
   ]
  },
  {
   "cell_type": "markdown",
   "id": "2c9125dd",
   "metadata": {},
   "source": [
    "$\\Delta (m_{21})^2= 8.83956037984321e-06$"
   ]
  },
  {
   "cell_type": "markdown",
   "id": "556bc7e8",
   "metadata": {},
   "source": [
    "$\\Delta (m_{32})^2=0.00249116023286403$"
   ]
  },
  {
   "cell_type": "markdown",
   "id": "0921a599",
   "metadata": {},
   "source": [
    "Ahora queremos representar gráficamente la relación entre estas diferencias de masa y la masa fija."
   ]
  },
  {
   "cell_type": "code",
   "execution_count": 241,
   "id": "c29a39fe",
   "metadata": {},
   "outputs": [
    {
     "data": {
      "image/png": "[encoded data removed]",
      "text/plain": [
       "<Figure size 432x288 with 1 Axes>"
      ]
     },
     "metadata": {
      "needs_background": "light"
     },
     "output_type": "display_data"
    }
   ],
   "source": [
    "x=np.linspace(1e-4,1e-1,100)\n",
    "m10=(x*(C33+C03)-x/2)\n",
    "m20=x*C03-x/2-x*C33\n",
    "y=(x*C03-x/2-x*C33)**2-(x*(C33+C03)-x/2)**2\n",
    "\n",
    "# plot\n",
    "fig, ax = plt.subplots()\n",
    "\n",
    "ax.plot(x, y, linewidth=2.0)\n",
    "ax.set_xlabel('m_3')\n",
    "ax.set_ylabel('Diff 21')\n",
    "ax.set_title('Diferencias entre masas 2 y 1')\n",
    "\n",
    "\n",
    "plt.show()\n"
   ]
  },
  {
   "cell_type": "code",
   "execution_count": 242,
   "id": "5136871c",
   "metadata": {},
   "outputs": [
    {
     "data": {
      "image/png": "[encoded data removed]",
      "text/plain": [
       "<Figure size 432x288 with 1 Axes>"
      ]
     },
     "metadata": {
      "needs_background": "light"
     },
     "output_type": "display_data"
    }
   ],
   "source": [
    "x=np.linspace(1e-4,1e-1,100)\n",
    "m20=x*C03-x/2-x*C33\n",
    "y=x**2-(x*C03-x/2-x*C33)**2\n",
    "\n",
    "# plot\n",
    "fig, ax = plt.subplots()\n",
    "\n",
    "ax.plot(x, y, linewidth=2.0, color='tab:orange')\n",
    "ax.set_xlabel('m_3')\n",
    "ax.set_ylabel('Diff 32')\n",
    "ax.set_title('Diferencias entre masas 3 y 2')\n",
    "\n",
    "plt.show()"
   ]
  },
  {
   "cell_type": "code",
   "execution_count": 264,
   "id": "acd0d3a3",
   "metadata": {},
   "outputs": [
    {
     "data": {
      "image/png": "[encoded data removed]",
      "text/plain": [
       "<Figure size 432x288 with 1 Axes>"
      ]
     },
     "metadata": {
      "needs_background": "light"
     },
     "output_type": "display_data"
    }
   ],
   "source": [
    "x=np.linspace(1e-4,1e-1,100)\n",
    "m10=(x*(C33+C03)-x/2)\n",
    "m20=x*C03-x/2-x*C33\n",
    "y1=(x*C03-x/2-x*C33)**2-(x*(C33+C03)-x/2)**2\n",
    "y2=x**2-(x*C03-x/2-x*C33)**2\n",
    "\n",
    "# plot\n",
    "fig, ax = plt.subplots()\n",
    "\n",
    "line1, = ax.plot(x, y1, linewidth=2.0, label='(m_21)^2', linestyle='dashed')\n",
    "line2, =ax.plot(x, y2, linewidth=2.0, label='(m_32)^2', linestyle='dashdot')\n",
    "ax.set_xlabel('m_3')\n",
    "ax.set_ylabel('Diferencias')\n",
    "ax.set_title('Comparación entre Diferencias de masas')\n",
    "\n",
    "ax.legend()\n",
    "plt.show()"
   ]
  },
  {
   "cell_type": "code",
   "execution_count": null,
   "id": "36b17bb6",
   "metadata": {},
   "outputs": [],
   "source": []
  }
 ],
 "metadata": {
  "kernelspec": {
   "display_name": "Python 3.8.10 64-bit",
   "language": "python",
   "name": "python3"
  },
  "language_info": {
   "codemirror_mode": {
    "name": "ipython",
    "version": 3
   },
   "file_extension": ".py",
   "mimetype": "text/x-python",
   "name": "python",
   "nbconvert_exporter": "python",
   "pygments_lexer": "ipython3",
   "version": "3.8.10"
  },
  "vscode": {
   "interpreter": {
    "hash": "916dbcbb3f70747c44a77c7bcd40155683ae19c65e1c03b4aa3499c5328201f1"
   }
  }
 },
 "nbformat": 4,
 "nbformat_minor": 5
}
